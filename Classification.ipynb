{
  "nbformat": 4,
  "nbformat_minor": 0,
  "metadata": {
    "colab": {
      "name": "Classification",
      "provenance": [],
      "collapsed_sections": [],
      "mount_file_id": "1pJAWrtRc6fG6LC9FP7w2Xil1Zh_ubVy8",
      "authorship_tag": "ABX9TyNTzkTZb1IyV4WVNtUCQjFb",
      "include_colab_link": true
    },
    "kernelspec": {
      "name": "python3",
      "display_name": "Python 3"
    }
  },
  "cells": [
    {
      "cell_type": "markdown",
      "metadata": {
        "id": "view-in-github",
        "colab_type": "text"
      },
      "source": [
        "<a href=\"https://colab.research.google.com/github/KyleChang95/Machine-Learning/blob/main/Classification.ipynb\" target=\"_parent\"><img src=\"https://colab.research.google.com/assets/colab-badge.svg\" alt=\"Open In Colab\"/></a>"
      ]
    },
    {
      "cell_type": "code",
      "metadata": {
        "id": "mBnk8BEw5-ff"
      },
      "source": [
        "import pandas as pd\n",
        "from sklearn.datasets import load_iris\n",
        "iris = load_iris()\n",
        "df = pd.DataFrame(iris[\"data\"],\n",
        "             columns=iris[\"feature_names\"])\n",
        "df[\"ans\"] = iris[\"target\"]\n",
        "#df.to_csv(\"drive/My Drive/iris.csv\", encoding=\"utf-8\", index=False)\n",
        "df.to_csv(\"iris.csv\", encoding=\"utf-8\", index=False)\n",
        "df"
      ],
      "execution_count": null,
      "outputs": []
    },
    {
      "cell_type": "code",
      "metadata": {
        "id": "uAcUC-iEJpZR"
      },
      "source": [
        "# sklearn前：pandas\n",
        "# sklearn後：np.array\n",
        "import numpy as np\n",
        "from sklearn.model_selection import train_test_split\n",
        "x = np.array(df.drop([\"ans\"], axis=1))\n",
        "y = np.array(df[\"ans\"])\n",
        "x_train, x_test, y_train, y_test = train_test_split(x, y, test_size=0.1)"
      ],
      "execution_count": null,
      "outputs": []
    }
  ]
}